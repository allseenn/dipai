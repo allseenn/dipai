{
 "cells": [
  {
   "cell_type": "code",
   "execution_count": 1,
   "id": "7f1838dc",
   "metadata": {},
   "outputs": [],
   "source": [
    "import os\n",
    "import re\n",
    "import json\n",
    "import gzip\n",
    "import time\n",
    "import zipfile\n",
    "import requests\n",
    "import numpy as np\n",
    "import pandas as pd\n",
    "from datetime import date\n",
    "from decimal import Decimal\n",
    "CACHE = {} # глобальный кэш, в процессе скрейпинга не обновлять!\n",
    "SETS = './sets/' # папка с файлами с наборами"
   ]
  },
  {
   "cell_type": "code",
   "execution_count": 2,
   "id": "dfe08014",
   "metadata": {},
   "outputs": [],
   "source": [
    "def default_serializer(obj): # для правильного преобразования даты в ISO формат\n",
    "    if isinstance(obj, (date)):\n",
    "        return obj.isoformat()\n",
    "    raise TypeError(f'Object of type {obj.__class__.__name__} is not JSON serializable')\n",
    "    \n",
    "\n",
    "def load_cache(filename='cache.gz'): # загрузка кэша\n",
    "    global CACHE\n",
    "    if os.path.exists(filename) and len(CACHE)==0:\n",
    "        with gzip.open(filename, 'rb') as gzip_ref:\n",
    "            CACHE = json.load(gzip_ref)\n",
    "        print(f'Загружено {len(CACHE)} записей из {filename} в кэш')\n",
    "\n",
    "\n",
    "def save_cache(filename='cache.gz'): # сохранение кэша\n",
    "    global CACHE\n",
    "    with gzip.open(filename, 'wb') as gzip_file:\n",
    "        json_data = json.dumps(CACHE, ensure_ascii=False, default=default_serializer)\n",
    "        gzip_file.write(json_data.encode('utf-8'))\n",
    "    print(f'Сохранено {len(CACHE)} записей в {filename}')\n",
    "    \n",
    "    \n",
    "def load_gzon(filename): \n",
    "    if os.path.exists(SETS + filename + '.gz'):\n",
    "        with gzip.open(SETS + filename + '.gz', 'rb') as gzip_ref:\n",
    "            return json.load(gzip_ref)\n",
    "    else:\n",
    "        return []\n",
    "    \n",
    "\n",
    "def save_gzon(filename):\n",
    "    data = globals().get(filename)\n",
    "    if data is not None:\n",
    "        json_data = json.dumps(data, ensure_ascii=False, default=default_serializer)\n",
    "        with gzip.open(SETS + filename + '.gz', 'wb') as gzip_file:\n",
    "            gzip_file.write(json_data.encode('utf-8'))\n",
    "        print(f'Сохранено {len(json_data)} записей в {filename}.gz')\n",
    "    else:\n",
    "        print(f'Переменная {filename} не найдена')\n",
    "        \n",
    "     \n",
    "def load_dataset(filename): \n",
    "    if os.path.exists(SETS + filename + '.gz'):\n",
    "        with gzip.open(SETS + filename + '.gz', 'rb') as gzip_ref:\n",
    "            return pd.DataFrame(json.load(gzip_ref))\n",
    "        \n",
    "    \n",
    "def save_dataset(filename):\n",
    "    data = globals().get(filename)\n",
    "    if data is not None:\n",
    "        data = data.to_dict(orient='records')\n",
    "        json_data = json.dumps(data, ensure_ascii=False, default=default_serializer)\n",
    "        with gzip.open(SETS + filename + '.gz', 'wb') as gzip_file:\n",
    "            gzip_file.write(json_data.encode('utf-8'))\n",
    "        print(f'Сохранено {len(data)} записей в {filename}.gz')"
   ]
  },
  {
   "cell_type": "code",
   "execution_count": 3,
   "id": "cf07d24a",
   "metadata": {},
   "outputs": [],
   "source": [
    "pd.set_option('display.max_colwidth', None)\n",
    "pd.set_option('display.max_columns', None)\n",
    "ecology = load_dataset('ecology')"
   ]
  },
  {
   "cell_type": "code",
   "execution_count": 5,
   "id": "cea3feee",
   "metadata": {},
   "outputs": [
    {
     "name": "stdout",
     "output_type": "stream",
     "text": [
      "<class 'pandas.core.frame.DataFrame'>\n",
      "RangeIndex: 189214 entries, 0 to 189213\n",
      "Data columns (total 23 columns):\n",
      " #   Column           Non-Null Count   Dtype \n",
      "---  ------           --------------   ----- \n",
      " 0   start            189214 non-null  object\n",
      " 1   end              189214 non-null  object\n",
      " 2   air              291 non-null     object\n",
      " 3   mean             903 non-null     object\n",
      " 4   noise            3418 non-null    object\n",
      " 5   dirt             124 non-null     object\n",
      " 6   digging          6740 non-null    object\n",
      " 7   capital          3490 non-null    object\n",
      " 8   house_lines      31582 non-null   object\n",
      " 9   clinics          280 non-null     object\n",
      " 10  roads            3842 non-null    object\n",
      " 11  parks            37 non-null      object\n",
      " 12  transports       108 non-null     object\n",
      " 13  city_places      3093 non-null    object\n",
      " 14  live_area        103108 non-null  object\n",
      " 15  streets          24 non-null      object\n",
      " 16  trashes          26820 non-null   object\n",
      " 17  factories        840 non-null     object\n",
      " 18  markets          26 non-null      object\n",
      " 19  autostations     8 non-null       object\n",
      " 20  gasstations      308 non-null     object\n",
      " 21  bad_gasstations  16 non-null      object\n",
      " 22  stroi            4156 non-null    object\n",
      "dtypes: object(23)\n",
      "memory usage: 33.2+ MB\n"
     ]
    }
   ],
   "source": [
    "ecology.info()"
   ]
  }
 ],
 "metadata": {
  "kernelspec": {
   "display_name": "Python 3 (ipykernel)",
   "language": "python",
   "name": "python3"
  },
  "language_info": {
   "codemirror_mode": {
    "name": "ipython",
    "version": 3
   },
   "file_extension": ".py",
   "mimetype": "text/x-python",
   "name": "python",
   "nbconvert_exporter": "python",
   "pygments_lexer": "ipython3",
   "version": "3.9.18"
  }
 },
 "nbformat": 4,
 "nbformat_minor": 5
}
