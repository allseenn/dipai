{
 "cells": [
  {
   "cell_type": "code",
   "execution_count": 8,
   "id": "545aeea6",
   "metadata": {},
   "outputs": [],
   "source": [
    "import geopandas as gpd\n",
    "from shapely.geometry import Point, Polygon, MultiPolygon, LineString\n",
    "import os\n",
    "import json\n",
    "import gzip\n",
    "import time\n",
    "import calendar\n",
    "from datetime import datetime\n",
    "import numpy as np\n",
    "import pandas as pd\n",
    "from datetime import date\n",
    "import warnings\n",
    "warnings.filterwarnings('ignore')\n",
    "SETS = './sets/' # папка с файлами с наборами"
   ]
  },
  {
   "cell_type": "code",
   "execution_count": 9,
   "id": "52fa7d62",
   "metadata": {},
   "outputs": [],
   "source": [
    "def load_dataset(filename): \n",
    "    if os.path.exists(SETS + filename + '.gz'):\n",
    "        with gzip.open(SETS + filename + '.gz', 'rb') as gzip_ref:\n",
    "            return pd.DataFrame(json.load(gzip_ref))\n",
    "        \n",
    "    \n",
    "def save_dataset(filename):\n",
    "    data = globals().get(filename)\n",
    "    if data is not None:\n",
    "        data = data.to_dict(orient='records')\n",
    "        json_data = json.dumps(data, ensure_ascii=False, default=default_serializer)\n",
    "        with gzip.open(SETS + filename + '.gz', 'wb') as gzip_file:\n",
    "            gzip_file.write(json_data.encode('utf-8'))\n",
    "        print(f'Сохранено {len(data)} записей в {filename}.gz')\n",
    "\n",
    "# Функция для преобразования данных в геодатафрейм\n",
    "def create_geodataframe(row, geo_column):\n",
    "    try:\n",
    "        geo_data = row[geo_column]\n",
    "\n",
    "        # Проверяем, является ли geo_data NaN\n",
    "        if pd.isna(geo_data):\n",
    "            return gpd.GeoDataFrame(geometry=[None])  # Возвращаем None, если geo_data NaN\n",
    "\n",
    "        geometry_type = geo_data['type']\n",
    "        \n",
    "        if geometry_type == 'Point':\n",
    "            coordinates = geo_data['coordinates']\n",
    "            geometry = Point(coordinates)\n",
    "        elif geometry_type == 'Polygon':\n",
    "            coordinates = geo_data['coordinates'][0]  # Предполагаем, что координаты переданы в виде (объект)\n",
    "            geometry = Polygon(coordinates)\n",
    "        elif geometry_type == 'MultiPolygon':\n",
    "            geometry = MultiPolygon([Polygon(p[0]) for p in geo_data['coordinates']])\n",
    "        elif geometry_type == 'LineString':\n",
    "            coordinates = geo_data['coordinates']\n",
    "            geometry = LineString(coordinates)\n",
    "        else:\n",
    "            # Если тип геометрии не распознан, возвращаем None\n",
    "            geometry = None\n",
    "    \n",
    "    except Exception as e:\n",
    "        print(f\"Ошибка: {e}. Значение: {row[geo_column]}\")  # Выводим ошибку и значение, вызвавшее ошибку\n",
    "        geometry = None  # Возвращаем None в случае ошибки\n",
    "\n",
    "    return gpd.GeoDataFrame(geometry=[geometry])"
   ]
  },
  {
   "cell_type": "code",
   "execution_count": 10,
   "id": "7dd39583",
   "metadata": {},
   "outputs": [],
   "source": [
    "pd.set_option('display.max_colwidth', None)\n",
    "pd.set_option('display.max_columns', None)"
   ]
  },
  {
   "cell_type": "code",
   "execution_count": 11,
   "id": "7c489f8e",
   "metadata": {},
   "outputs": [],
   "source": [
    "ecology = load_dataset('ecology')\n",
    "exams = load_dataset('exams')"
   ]
  },
  {
   "cell_type": "code",
   "execution_count": null,
   "id": "8c1b70d4",
   "metadata": {},
   "outputs": [],
   "source": [
    "%%time\n",
    "ecology['geo'] = ecology.apply(lambda row: create_geodataframe(row, 'air'), axis=1)"
   ]
  }
 ],
 "metadata": {
  "kernelspec": {
   "display_name": "Python 3 (ipykernel)",
   "language": "python",
   "name": "python3"
  },
  "language_info": {
   "codemirror_mode": {
    "name": "ipython",
    "version": 3
   },
   "file_extension": ".py",
   "mimetype": "text/x-python",
   "name": "python",
   "nbconvert_exporter": "python",
   "pygments_lexer": "ipython3",
   "version": "3.9.18"
  }
 },
 "nbformat": 4,
 "nbformat_minor": 5
}
