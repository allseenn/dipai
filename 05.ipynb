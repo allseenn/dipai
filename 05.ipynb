{
 "cells": [
  {
   "cell_type": "code",
   "execution_count": 1,
   "id": "8f9f38fa",
   "metadata": {},
   "outputs": [],
   "source": [
    "import os\n",
    "import math\n",
    "import json\n",
    "import gzip\n",
    "import time\n",
    "import calendar\n",
    "from datetime import datetime\n",
    "import numpy as np\n",
    "import pandas as pd\n",
    "from datetime import date\n",
    "from multiprocessing import Pool\n",
    "import warnings\n",
    "warnings.filterwarnings('ignore')\n",
    "SETS = './sets/' # папка с файлами с наборами\n",
    "LONG = 0.0159 # долгота расстояние 1 км от точки на восток или на запад\n",
    "LAT = 0.009 # широта расстояние 1 км от точки на север или на юг"
   ]
  },
  {
   "cell_type": "code",
   "execution_count": 2,
   "id": "ec3eeecd",
   "metadata": {},
   "outputs": [],
   "source": [
    "def default_serializer(obj): # для правильного преобразования даты в ISO формат\n",
    "    if isinstance(obj, (date)):\n",
    "        return obj.isoformat()\n",
    "    raise TypeError(f'Object of type {obj.__class__.__name__} is not JSON serializable')\n",
    "    \n",
    "\n",
    "def load_dataset(filename): \n",
    "    if os.path.exists(SETS + filename + '.gz'):\n",
    "        with gzip.open(SETS + filename + '.gz', 'rb') as gzip_ref:\n",
    "            return pd.DataFrame(json.load(gzip_ref))\n",
    "        \n",
    "    \n",
    "def save_dataset(filename):\n",
    "    data = globals().get(filename)\n",
    "    if data is not None:\n",
    "        data = data.to_dict(orient='records')\n",
    "        json_data = json.dumps(data, ensure_ascii=False, default=default_serializer)\n",
    "        with gzip.open(SETS + filename + '.gz', 'wb') as gzip_file:\n",
    "            gzip_file.write(json_data.encode('utf-8'))\n",
    "        print(f'Сохранено {len(data)} записей в {filename}.gz')\n",
    "        \n",
    "\n",
    "def distance(lon1, lat1, lon2, lat2):\n",
    "    \"\"\"\n",
    "    Функция для вычисления расстояния между двумя точками на плоскости по их GPS координатам\n",
    "    \"\"\"\n",
    "    R = 6371  # Радиус Земли в километрах\n",
    "    dlat = np.radians(lat2 - lat1)\n",
    "    dlon = np.radians(lon2 - lon1)\n",
    "    a = np.sin(dlat / 2) * np.sin(dlat / 2) + np.cos(np.radians(lat1)) * np.cos(np.radians(lat2)) * np.sin(dlon / 2) * np.sin(dlon / 2)\n",
    "    c = 2 * np.arctan2(np.sqrt(a), np.sqrt(1 - a))\n",
    "    return R * c\n",
    "\n",
    "\n",
    "def km_min(exams, ecology):\n",
    "    counter = 0\n",
    "    km_list = []\n",
    "    for i, row in ecology.iterrows():\n",
    "        if exams['datesSet'].intersection(row['datesSet']):\n",
    "            a_list = exams['geoList']\n",
    "            for a in range(0, len(a_list), 2):\n",
    "                a_longlat = a_list[a:a+2]\n",
    "                if len(a_longlat) >= 2: # если в списке больше двух точек\n",
    "                    a_long = a_longlat[0]\n",
    "                    a_lat = a_longlat[1]\n",
    "                b_list = row['geoList']\n",
    "                for b in range(0, len(b_list), 2):\n",
    "                    b_longlat = b_list[b:b+2]\n",
    "                    if len(b_longlat) >= 2:\n",
    "                        b_long = b_longlat[0]\n",
    "                        b_lat = b_longlat[1]\n",
    "                    km = distance(a_long, a_lat, b_long, b_lat)\n",
    "                    if km < 1:\n",
    "                        counter += 1\n",
    "                        km_list.append(km)\n",
    "                        return 1-math.prod(km_list)\n",
    "                        #print(f'расстояние {km} между [ {a_long}, {a_lat} ] и [ {b_long}, {b_lat} ]')\n",
    "    return 0\n",
    "    \n",
    "\n",
    "def geo_list(geodata):\n",
    "    if type(geodata) == str:\n",
    "        try: \n",
    "            geodata = eval(geodata)\n",
    "        except Exeption as e:\n",
    "            print(geodata)\n",
    "    geolist = []\n",
    "    try:\n",
    "        geolist = list(map(float, str(geodata['coordinates']).replace(',[]', '').replace('[', '').replace(']', '').split(',')))\n",
    "    except Exception as e:\n",
    "        print(e, geodata)\n",
    "    return geolist[0:2]\n",
    "\n",
    "\n",
    "def dates_set(start, end):\n",
    "    exams_range = pd.date_range(start=start, end=end)\n",
    "    return set(exams_range)\n",
    "\n",
    "\n",
    "def sets_intersects(exams_set, start, end):\n",
    "    \"\"\"\n",
    "    Для уменьшения объема датасета ecology, проводим проверку, входят ли даты событий в наборы дат экзаменов\n",
    "    \"\"\"\n",
    "    date_range = pd.date_range(start=start, end=end)\n",
    "    date_set = set(date_range)\n",
    "    if date_set.intersection(exams_set):\n",
    "        return True\n",
    "    else:\n",
    "        return False"
   ]
  },
  {
   "cell_type": "code",
   "execution_count": 3,
   "id": "7249fa7c",
   "metadata": {},
   "outputs": [],
   "source": [
    "pd.set_option('display.max_colwidth', None) # для отображения полного текста в ячейках\n",
    "pd.set_option('display.max_columns', None) "
   ]
  },
  {
   "cell_type": "code",
   "execution_count": 4,
   "id": "0970f620",
   "metadata": {},
   "outputs": [
    {
     "name": "stdout",
     "output_type": "stream",
     "text": [
      "CPU times: user 5.67 s, sys: 143 ms, total: 5.82 s\n",
      "Wall time: 5.83 s\n"
     ]
    }
   ],
   "source": [
    "%%time\n",
    "# Загружаем и обрабатываем облегченный вариант датасета экзаменов (не все параметры)\n",
    "exams_lite = load_dataset('exams_lite')\n",
    "exams_lite['datesSet'] = exams_lite.apply(lambda x: dates_set(x['start'], x['end']), axis=1)\n",
    "exams_lite['geoList'] = exams_lite.apply(lambda x: geo_list(x['geoData']), axis=1)"
   ]
  },
  {
   "cell_type": "code",
   "execution_count": 5,
   "id": "0d40de62",
   "metadata": {},
   "outputs": [
    {
     "name": "stdout",
     "output_type": "stream",
     "text": [
      "CPU times: user 9min 16s, sys: 839 ms, total: 9min 17s\n",
      "Wall time: 9min 19s\n"
     ]
    }
   ],
   "source": [
    "%%time\n",
    "# Стройки\n",
    "ecology_stroi = load_dataset('ecology_stroi')\n",
    "ecology_stroi['datesSet'] = ecology_stroi.apply(lambda x: dates_set(x['start'], x['end']), axis=1)\n",
    "ecology_stroi['geoList'] = ecology_stroi.apply(lambda x: geo_list(x['stroi']), axis=1)\n",
    "exams_lite['stroi'] = exams_lite.apply(lambda x: km_min(x, ecology_stroi), axis=1)"
   ]
  },
  {
   "cell_type": "code",
   "execution_count": 6,
   "id": "32e49422",
   "metadata": {},
   "outputs": [
    {
     "name": "stdout",
     "output_type": "stream",
     "text": [
      "CPU times: user 20min 2s, sys: 257 ms, total: 20min 2s\n",
      "Wall time: 20min 6s\n"
     ]
    }
   ],
   "source": [
    "%%time\n",
    "# Дороги\n",
    "ecology_roads = load_dataset('ecology_roads')\n",
    "ecology_roads['datesSet'] = ecology_roads.apply(lambda x: dates_set(x['start'], x['end']), axis=1)\n",
    "ecology_roads['geoList'] = ecology_roads.apply(lambda x: geo_list(x['roads']), axis=1)\n",
    "exams_lite['roads'] = exams_lite.apply(lambda x: km_min(x, ecology_roads), axis=1)"
   ]
  },
  {
   "cell_type": "code",
   "execution_count": 8,
   "id": "c1414f03",
   "metadata": {},
   "outputs": [
    {
     "name": "stdout",
     "output_type": "stream",
     "text": [
      "Сохранено 5542 записей в exams_ecology.gz\n"
     ]
    }
   ],
   "source": [
    "exams_ecology = exams_lite[['global_id', 'start', 'end', 'stroi', 'roads', 'stupid']]\n",
    "save_dataset('exams_ecology')"
   ]
  }
 ],
 "metadata": {
  "kernelspec": {
   "display_name": "Python 3 (ipykernel)",
   "language": "python",
   "name": "python3"
  },
  "language_info": {
   "codemirror_mode": {
    "name": "ipython",
    "version": 3
   },
   "file_extension": ".py",
   "mimetype": "text/x-python",
   "name": "python",
   "nbconvert_exporter": "python",
   "pygments_lexer": "ipython3",
   "version": "3.9.18"
  }
 },
 "nbformat": 4,
 "nbformat_minor": 5
}
