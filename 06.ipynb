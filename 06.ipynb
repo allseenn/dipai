{
 "cells": [
  {
   "cell_type": "code",
   "execution_count": 1,
   "id": "274694dc",
   "metadata": {},
   "outputs": [],
   "source": [
    "import os\n",
    "import math\n",
    "import json\n",
    "import gzip\n",
    "import time\n",
    "import calendar\n",
    "from datetime import datetime\n",
    "import numpy as np\n",
    "import pandas as pd\n",
    "from datetime import date\n",
    "from multiprocessing import Pool\n",
    "import warnings\n",
    "warnings.filterwarnings('ignore')\n",
    "SETS = './sets/' # папка с файлами с наборами"
   ]
  },
  {
   "cell_type": "code",
   "execution_count": 2,
   "id": "2686494b",
   "metadata": {},
   "outputs": [],
   "source": [
    "def default_serializer(obj): # для правильного преобразования даты в ISO формат\n",
    "    if isinstance(obj, (date)):\n",
    "        return obj.isoformat()\n",
    "    raise TypeError(f'Object of type {obj.__class__.__name__} is not JSON serializable')\n",
    "    \n",
    "\n",
    "def load_dataset(filename): \n",
    "    if os.path.exists(SETS + filename + '.gz'):\n",
    "        with gzip.open(SETS + filename + '.gz', 'rb') as gzip_ref:\n",
    "            return pd.DataFrame(json.load(gzip_ref))\n",
    "        \n",
    "    \n",
    "def save_dataset(filename):\n",
    "    data = globals().get(filename)\n",
    "    if data is not None:\n",
    "        data = data.to_dict(orient='records')\n",
    "        json_data = json.dumps(data, ensure_ascii=False, default=default_serializer)\n",
    "        with gzip.open(SETS + filename + '.gz', 'wb') as gzip_file:\n",
    "            gzip_file.write(json_data.encode('utf-8'))\n",
    "        print(f'Сохранено {len(data)} записей в {filename}.gz')"
   ]
  },
  {
   "cell_type": "code",
   "execution_count": 4,
   "id": "920d4cce",
   "metadata": {},
   "outputs": [
    {
     "data": {
      "text/html": [
       "<div>\n",
       "<style scoped>\n",
       "    .dataframe tbody tr th:only-of-type {\n",
       "        vertical-align: middle;\n",
       "    }\n",
       "\n",
       "    .dataframe tbody tr th {\n",
       "        vertical-align: top;\n",
       "    }\n",
       "\n",
       "    .dataframe thead th {\n",
       "        text-align: right;\n",
       "    }\n",
       "</style>\n",
       "<table border=\"1\" class=\"dataframe\">\n",
       "  <thead>\n",
       "    <tr style=\"text-align: right;\">\n",
       "      <th></th>\n",
       "      <th>global_id</th>\n",
       "      <th>start</th>\n",
       "      <th>end</th>\n",
       "      <th>near_stroi</th>\n",
       "      <th>stupid</th>\n",
       "    </tr>\n",
       "  </thead>\n",
       "  <tbody>\n",
       "    <tr>\n",
       "      <th>0</th>\n",
       "      <td>797946035</td>\n",
       "      <td>2017-03-01T00:00:00</td>\n",
       "      <td>2017-09-30T00:00:00</td>\n",
       "      <td>0.415290</td>\n",
       "      <td>3.800000</td>\n",
       "    </tr>\n",
       "    <tr>\n",
       "      <th>1</th>\n",
       "      <td>797949150</td>\n",
       "      <td>2017-03-01T00:00:00</td>\n",
       "      <td>2017-09-30T00:00:00</td>\n",
       "      <td>0.423029</td>\n",
       "      <td>3.357143</td>\n",
       "    </tr>\n",
       "    <tr>\n",
       "      <th>2</th>\n",
       "      <td>797949275</td>\n",
       "      <td>2017-03-01T00:00:00</td>\n",
       "      <td>2017-09-30T00:00:00</td>\n",
       "      <td>0.059235</td>\n",
       "      <td>1.100000</td>\n",
       "    </tr>\n",
       "    <tr>\n",
       "      <th>3</th>\n",
       "      <td>797949425</td>\n",
       "      <td>2017-03-01T00:00:00</td>\n",
       "      <td>2017-09-30T00:00:00</td>\n",
       "      <td>0.368473</td>\n",
       "      <td>6.600000</td>\n",
       "    </tr>\n",
       "    <tr>\n",
       "      <th>4</th>\n",
       "      <td>797949570</td>\n",
       "      <td>2017-03-01T00:00:00</td>\n",
       "      <td>2017-09-30T00:00:00</td>\n",
       "      <td>0.358154</td>\n",
       "      <td>5.000000</td>\n",
       "    </tr>\n",
       "  </tbody>\n",
       "</table>\n",
       "</div>"
      ],
      "text/plain": [
       "   global_id                start                  end  near_stroi    stupid\n",
       "0  797946035  2017-03-01T00:00:00  2017-09-30T00:00:00    0.415290  3.800000\n",
       "1  797949150  2017-03-01T00:00:00  2017-09-30T00:00:00    0.423029  3.357143\n",
       "2  797949275  2017-03-01T00:00:00  2017-09-30T00:00:00    0.059235  1.100000\n",
       "3  797949425  2017-03-01T00:00:00  2017-09-30T00:00:00    0.368473  6.600000\n",
       "4  797949570  2017-03-01T00:00:00  2017-09-30T00:00:00    0.358154  5.000000"
      ]
     },
     "execution_count": 4,
     "metadata": {},
     "output_type": "execute_result"
    }
   ],
   "source": [
    "pd.set_option('display.max_colwidth', None) # для отображения полного текста в ячейках\n",
    "pd.set_option('display.max_columns', None) \n",
    "exams_stroi = load_dataset('exams_stroi')\n",
    "exams_stroi.head()"
   ]
  },
  {
   "cell_type": "code",
   "execution_count": 5,
   "id": "94c3ce23",
   "metadata": {},
   "outputs": [
    {
     "name": "stdout",
     "output_type": "stream",
     "text": [
      "<class 'pandas.core.frame.DataFrame'>\n",
      "RangeIndex: 5542 entries, 0 to 5541\n",
      "Data columns (total 5 columns):\n",
      " #   Column      Non-Null Count  Dtype  \n",
      "---  ------      --------------  -----  \n",
      " 0   global_id   5542 non-null   int64  \n",
      " 1   start       5542 non-null   object \n",
      " 2   end         5542 non-null   object \n",
      " 3   near_stroi  5542 non-null   float64\n",
      " 4   stupid      5542 non-null   float64\n",
      "dtypes: float64(2), int64(1), object(2)\n",
      "memory usage: 216.6+ KB\n"
     ]
    }
   ],
   "source": [
    "exams_stroi.info()"
   ]
  }
 ],
 "metadata": {
  "kernelspec": {
   "display_name": "Python 3 (ipykernel)",
   "language": "python",
   "name": "python3"
  },
  "language_info": {
   "codemirror_mode": {
    "name": "ipython",
    "version": 3
   },
   "file_extension": ".py",
   "mimetype": "text/x-python",
   "name": "python",
   "nbconvert_exporter": "python",
   "pygments_lexer": "ipython3",
   "version": "3.9.18"
  }
 },
 "nbformat": 4,
 "nbformat_minor": 5
}
